{
 "cells": [
  {
   "cell_type": "code",
   "execution_count": 122,
   "metadata": {
    "collapsed": true
   },
   "outputs": [],
   "source": [
    "import numpy as np\n",
    "import pandas as pd"
   ]
  },
  {
   "cell_type": "code",
   "execution_count": 1,
   "metadata": {},
   "outputs": [
    {
     "name": "stderr",
     "output_type": "stream",
     "text": [
      "C:\\Users\\nam\\Anaconda3\\lib\\site-packages\\IPython\\core\\interactiveshell.py:2717: DtypeWarning: Columns (31) have mixed types. Specify dtype option on import or set low_memory=False.\n",
      "  interactivity=interactivity, compiler=compiler, result=result)\n"
     ]
    }
   ],
   "source": [
    "import numpy as np\n",
    "import pandas as pd\n",
    "df_acc = pd.read_csv('C:/Users/nam/Desktop/Nam ASUS - data back up/SEMIRIS TECHNOLOGY/PROJECTS/Data Science/Data_incubator/Accidents0514.csv')\n",
    "df_cas = pd.read_csv('C:/Users/nam/Desktop/Nam ASUS - data back up/SEMIRIS TECHNOLOGY/PROJECTS/Data Science/Data_incubator/Casualties0514.csv')\n",
    "df_veh = pd.read_csv('C:/Users/nam/Desktop/Nam ASUS - data back up/SEMIRIS TECHNOLOGY/PROJECTS/Data Science/Data_incubator/Vehicles0514.csv')\n",
    "df = df_acc.merge(df_cas,on='Accident_Index')\n",
    "df = df.merge(df_veh, on='Accident_Index')\n",
    "\n",
    "\n"
   ]
  },
  {
   "cell_type": "code",
   "execution_count": null,
   "metadata": {
    "collapsed": true
   },
   "outputs": [],
   "source": [
    "# fraction of accidents in urban area\n",
    "frac_acc_urban = df['Casualty_Home_Area_Type'].value_counts()[1]/df.shape[0]\n"
   ]
  },
  {
   "cell_type": "code",
   "execution_count": 42,
   "metadata": {},
   "outputs": [],
   "source": [
    "# most dangerous time to drive\n",
    "df_time = df[['Accident_Severity','Time']]\n",
    "df_time = df_time.dropna(axis = 0, how = 'any')\n",
    "df_time.reset_index()\n",
    "\n",
    "acc_freq = np.zeros(24)\n",
    "fatal_freq = np.zeros(24)\n",
    "for i in range(0,df_time.shape[0]):\n",
    "    acc_freq[int(df_time['Time'].values[i][:2])] = acc_freq[int(df_time['Time'].values[i][:2])] + 1\n",
    "    if (df_time['Accident_Severity'].values[i] == 1):\n",
    "        fatal_freq[int(df_time['Time'].values[i][:2])] = fatal_freq[int(df_time['Time'].values[i][:2])] + 1\n",
    "        \n",
    "fatal_prob = np.zeros(24)\n",
    "for i in range(0,24):\n",
    "    fatal_prob[i] = fatal_freq[i]/acc_freq[i]\n",
    "    \n",
    "# max fatal probability\n",
    "np.max(fatal_prob)    \n",
    "    "
   ]
  },
  {
   "cell_type": "code",
   "execution_count": 91,
   "metadata": {},
   "outputs": [
    {
     "data": {
      "text/plain": [
       "array([ -18305.69090909,  602663.36363636])"
      ]
     },
     "execution_count": 91,
     "metadata": {},
     "output_type": "execute_result"
    }
   ],
   "source": [
    "# accident trend over year\n",
    "df_year = df['Date']\n",
    "df_year = df_year.dropna(axis = 0, how = 'any')\n",
    "df_year.reset_index()\n",
    "year = []\n",
    "for i in range(0,df_year.shape[0]):\n",
    "    year.append(int(df_year.values[i][8:]))\n",
    "year = pd.Series(np.array(year))\n",
    "year_trend = year.value_counts()\n",
    "np.polyfit(year_trend.index,year_trend.values,1)[0]"
   ]
  },
  {
   "cell_type": "code",
   "execution_count": 120,
   "metadata": {},
   "outputs": [
    {
     "data": {
      "text/plain": [
       "(0.9134693505850443, 0.0015164573473449101)"
      ]
     },
     "execution_count": 120,
     "metadata": {},
     "output_type": "execute_result"
    }
   ],
   "source": [
    "# Pearson correlation coefficient between speed limit and casualties per accidents for each speed limit\n",
    "import scipy.stats as stats\n",
    "df_casualties = df[['Number_of_Casualties','Speed_limit']]\n",
    "df_casualties = df_casualties.dropna(axis=0, how ='any')\n",
    "df_casualties.reset_index()\n",
    "speed_limit_dict = {10:0,15:1,20:2,30:3,40:4,50:5,60:6,70:7}\n",
    "speed_limit_array = [10,15,20,30,40,50,60,70]\n",
    "\n",
    "# total casualities at each speed limit\n",
    "casualties = np.zeros(8)\n",
    "for i in range(0,df_casualties.shape[0]):\n",
    "    casualties[speed_limit_dict[df_casualties['Speed_limit'].values[i]]] = casualties[speed_limit_dict[df_casualties['Speed_limit'].values[i]]] + df_casualties['Number_of_Casualties'].values[i]\n",
    "\n",
    "# number of accidents at each speed limit\n",
    "acc_count = df_casualties['Speed_limit'].value_counts()\n",
    "\n",
    "# casualties per accident at each speed limit\n",
    "casualties_per_acc = np.zeros(8)\n",
    "for i in range(0,8):\n",
    "    casualties_per_acc[i] = casualties[i]/acc_count[speed_limit_array[i]]\n",
    "\n",
    "# Pearson correlation coefficient between speed limit and casualties per accidents for each speed limit\n",
    "stats.pearsonr(speed_limit_array,casualties_per_acc)\n",
    "    "
   ]
  },
  {
   "cell_type": "code",
   "execution_count": 121,
   "metadata": {},
   "outputs": [
    {
     "data": {
      "text/plain": [
       "Index(['Accident_Index', 'Location_Easting_OSGR', 'Location_Northing_OSGR',\n",
       "       'Longitude', 'Latitude', 'Police_Force', 'Accident_Severity',\n",
       "       'Number_of_Vehicles', 'Number_of_Casualties', 'Date', 'Day_of_Week',\n",
       "       'Time', 'Local_Authority_(District)', 'Local_Authority_(Highway)',\n",
       "       '1st_Road_Class', '1st_Road_Number', 'Road_Type', 'Speed_limit',\n",
       "       'Junction_Detail', 'Junction_Control', '2nd_Road_Class',\n",
       "       '2nd_Road_Number', 'Pedestrian_Crossing-Human_Control',\n",
       "       'Pedestrian_Crossing-Physical_Facilities', 'Light_Conditions',\n",
       "       'Weather_Conditions', 'Road_Surface_Conditions',\n",
       "       'Special_Conditions_at_Site', 'Carriageway_Hazards',\n",
       "       'Urban_or_Rural_Area', 'Did_Police_Officer_Attend_Scene_of_Accident',\n",
       "       'LSOA_of_Accident_Location', 'Vehicle_Reference_x',\n",
       "       'Casualty_Reference', 'Casualty_Class', 'Sex_of_Casualty',\n",
       "       'Age_of_Casualty', 'Age_Band_of_Casualty', 'Casualty_Severity',\n",
       "       'Pedestrian_Location', 'Pedestrian_Movement', 'Car_Passenger',\n",
       "       'Bus_or_Coach_Passenger', 'Pedestrian_Road_Maintenance_Worker',\n",
       "       'Casualty_Type', 'Casualty_Home_Area_Type', 'Vehicle_Reference_y',\n",
       "       'Vehicle_Type', 'Towing_and_Articulation', 'Vehicle_Manoeuvre',\n",
       "       'Vehicle_Location-Restricted_Lane', 'Junction_Location',\n",
       "       'Skidding_and_Overturning', 'Hit_Object_in_Carriageway',\n",
       "       'Vehicle_Leaving_Carriageway', 'Hit_Object_off_Carriageway',\n",
       "       '1st_Point_of_Impact', 'Was_Vehicle_Left_Hand_Drive?',\n",
       "       'Journey_Purpose_of_Driver', 'Sex_of_Driver', 'Age_of_Driver',\n",
       "       'Age_Band_of_Driver', 'Engine_Capacity_(CC)', 'Propulsion_Code',\n",
       "       'Age_of_Vehicle', 'Driver_IMD_Decile', 'Driver_Home_Area_Type'],\n",
       "      dtype='object')"
      ]
     },
     "execution_count": 121,
     "metadata": {},
     "output_type": "execute_result"
    }
   ],
   "source": [
    "df.columns"
   ]
  },
  {
   "cell_type": "code",
   "execution_count": null,
   "metadata": {
    "collapsed": true
   },
   "outputs": [],
   "source": []
  }
 ],
 "metadata": {
  "kernelspec": {
   "display_name": "Python 3",
   "language": "python",
   "name": "python3"
  },
  "language_info": {
   "codemirror_mode": {
    "name": "ipython",
    "version": 3
   },
   "file_extension": ".py",
   "mimetype": "text/x-python",
   "name": "python",
   "nbconvert_exporter": "python",
   "pygments_lexer": "ipython3",
   "version": "3.6.1"
  }
 },
 "nbformat": 4,
 "nbformat_minor": 2
}
